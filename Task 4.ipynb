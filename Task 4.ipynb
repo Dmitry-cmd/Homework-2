{
 "cells": [
  {
   "cell_type": "code",
   "execution_count": 15,
   "metadata": {},
   "outputs": [
    {
     "name": "stdout",
     "output_type": "stream",
     "text": [
      "gHawking nStephen\n"
     ]
    }
   ],
   "source": [
    "s = ('Stephen Hawking')\n",
    "space = s.find(' ')\n",
    "word_1 = s[:space]\n",
    "word_2 = s[-space:]\n",
    "L_1 = word_1[-1:]\n",
    "L_2 = word_2[-1:]\n",
    "s = L_2 + word_2 + \" \" + L_1 + word_1\n",
    "print(s)"
   ]
  },
  {
   "cell_type": "code",
   "execution_count": 28,
   "metadata": {},
   "outputs": [
    {
     "name": "stdout",
     "output_type": "stream",
     "text": [
      "owT enO\n"
     ]
    }
   ],
   "source": [
    "s = ('One Two')\n",
    "space = s.find(' ')\n",
    "a = s[:space]\n",
    "b = s[-space:]\n",
    "word_1 = a[::-1]\n",
    "word_2 = b[::-1]\n",
    "s = word_2 + \" \" + word_1\n",
    "print(s)"
   ]
  }
 ],
 "metadata": {
  "kernelspec": {
   "display_name": "Python 3",
   "language": "python",
   "name": "python3"
  },
  "language_info": {
   "codemirror_mode": {
    "name": "ipython",
    "version": 3
   },
   "file_extension": ".py",
   "mimetype": "text/x-python",
   "name": "python",
   "nbconvert_exporter": "python",
   "pygments_lexer": "ipython3",
   "version": "3.8.2"
  }
 },
 "nbformat": 4,
 "nbformat_minor": 4
}
