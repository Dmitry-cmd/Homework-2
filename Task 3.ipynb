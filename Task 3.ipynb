{
 "cells": [
  {
   "cell_type": "code",
   "execution_count": 17,
   "metadata": {},
   "outputs": [
    {
     "name": "stdout",
     "output_type": "stream",
     "text": [
      "Enter a symbol and\n",
      "observe the magic of Unicode: G\n",
      "F H\n"
     ]
    }
   ],
   "source": [
    "q = input('Enter a symbol and\\nobserve the magic of Unicode: ''')\n",
    "a = ord(q)-1\n",
    "b = ord(q)+1\n",
    "Num_1 = chr(a)\n",
    "Num_2 = chr(b)\n",
    "print((Num_1),(Num_2))\n"
   ]
  }
 ],
 "metadata": {
  "kernelspec": {
   "display_name": "Python 3",
   "language": "python",
   "name": "python3"
  },
  "language_info": {
   "codemirror_mode": {
    "name": "ipython",
    "version": 3
   },
   "file_extension": ".py",
   "mimetype": "text/x-python",
   "name": "python",
   "nbconvert_exporter": "python",
   "pygments_lexer": "ipython3",
   "version": "3.8.2"
  }
 },
 "nbformat": 4,
 "nbformat_minor": 4
}
